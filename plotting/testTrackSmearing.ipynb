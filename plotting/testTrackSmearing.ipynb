{
 "cells": [
  {
   "cell_type": "code",
   "execution_count": 1,
   "metadata": {},
   "outputs": [],
   "source": [
    "import warnings\n",
    "warnings.filterwarnings(\"ignore\", message=\"numpy.dtype size changed\")\n",
    "import numpy as np\n",
    "import os\n",
    "import matplotlib.pyplot as plt\n",
    "import seaborn as sns\n",
    "\n",
    "delphesDir = os.path.abspath(\"./delphes-3.5.1pre10\")\n",
    "os.environ['ROOT_INCLUDE_PATH'] = os.path.join(delphesDir,\"external\")\n",
    "\n",
    "import ROOT\n",
    "\n",
    "ROOT.gSystem.Load(os.path.join(delphesDir,\"libDelphes.so\"))\n",
    "\n",
    "ROOT.gInterpreter.Declare('#include \"classes/SortableObject.h\"')\n",
    "ROOT.gInterpreter.Declare('#include \"classes/DelphesClasses.h\"')\n",
    "ROOT.gInterpreter.Declare('#include \"external/ExRootAnalysis/ExRootTreeReader.h\"')\n",
    "\n",
    "\n",
    "plt.style.use('fivethirtyeight') #Set style\n",
    "plt.rcParams.update({'figure.figsize' : (15,10)})  #Set general plotting options\n",
    "plt.rcParams.update({\n",
    "    \"text.usetex\": True,\n",
    "    \"font.family\": \"sans-serif\",\n",
    "    \"font.sans-serif\": [\"Helvetica\"]})\n",
    "\n",
    "plt.rcParams.update({\"savefig.dpi\" : 300}) #Figure resolution\n",
    "\n",
    "\n",
    "#Define plotting style:\n",
    "sns.set_style('ticks',{'font.family':'Times New Roman', 'font.serif':'Times New Roman'})\n",
    "sns.set_context('paper', font_scale=1.8)\n",
    "cm = plt.colormaps['RdYlBu']\n",
    "\n",
    "colors = sns.color_palette('Paired')"
   ]
  },
  {
   "cell_type": "code",
   "execution_count": 2,
   "metadata": {},
   "outputs": [],
   "source": [
    "inputFile = './HZcms_1000mm_vtx.root'"
   ]
  },
  {
   "cell_type": "code",
   "execution_count": 3,
   "metadata": {},
   "outputs": [],
   "source": [
    "f = ROOT.TFile(inputFile,'read')\n",
    "tree = f.Get(\"Delphes\")\n",
    "nevts = tree.GetEntries()\n",
    "nevts = 5000\n",
    "import copy\n",
    "tree.GetEntry(0)   \n",
    "jets = tree.Jet\n",
    "tracks = tree.Track\n",
    "tracks0 = tree.GenTrack\n",
    "# f.Close()\n"
   ]
  },
  {
   "cell_type": "code",
   "execution_count": 4,
   "metadata": {},
   "outputs": [],
   "source": [
    "tracks_s = sorted(tracks, key=lambda t: t.PT, reverse=True)\n",
    "tracks0_s = sorted(tracks0, key=lambda t: t.PT, reverse=True)"
   ]
  },
  {
   "cell_type": "code",
   "execution_count": 5,
   "metadata": {},
   "outputs": [
    {
     "name": "stdout",
     "output_type": "stream",
     "text": [
      " track 1: PT = 43.61 +- 0.00, ID = 11, D0 (true) = 0.00e+00 +- 0.00e+00 mm\n",
      " track 2: PT = 39.36 +- 0.00, ID = -11, D0 (true) = 3.52e-12 +- 0.00e+00 mm\n",
      " track 3: PT = 9.09 +- 0.00, ID = -211, D0 (true) = 1.38e+02 +- 0.00e+00 mm\n",
      " track 4: PT = 8.40 +- 0.00, ID = 321, D0 (true) = 5.44e+01 +- 0.00e+00 mm\n",
      " track 5: PT = 6.59 +- 0.00, ID = -211, D0 (true) = 4.70e+01 +- 0.00e+00 mm\n",
      " track 6: PT = 5.87 +- 0.00, ID = -211, D0 (true) = -2.08e+01 +- 0.00e+00 mm\n",
      " track 7: PT = 5.68 +- 0.00, ID = 321, D0 (true) = 1.72e+02 +- 0.00e+00 mm\n",
      " track 8: PT = 4.91 +- 0.00, ID = -211, D0 (true) = -2.03e+01 +- 0.00e+00 mm\n",
      " track 9: PT = 4.29 +- 0.00, ID = 13, D0 (true) = -4.83e-03 +- 0.00e+00 mm\n",
      " track 10: PT = 2.32 +- 0.00, ID = -11, D0 (true) = 2.38e+02 +- 0.00e+00 mm\n",
      " track 11: PT = 2.04 +- 0.00, ID = 2212, D0 (true) = 4.99e+02 +- 0.00e+00 mm\n",
      " track 12: PT = 1.77 +- 0.00, ID = 2212, D0 (true) = 1.30e+02 +- 0.00e+00 mm\n",
      " track 13: PT = 1.62 +- 0.00, ID = 13, D0 (true) = -6.64e+02 +- 0.00e+00 mm\n",
      " track 14: PT = 1.61 +- 0.00, ID = 321, D0 (true) = 6.51e-15 +- 0.00e+00 mm\n",
      " track 15: PT = 1.17 +- 0.00, ID = -2212, D0 (true) = -7.25e+01 +- 0.00e+00 mm\n",
      " track 16: PT = 1.13 +- 0.00, ID = -211, D0 (true) = 4.05e+01 +- 0.00e+00 mm\n",
      " track 17: PT = 0.95 +- 0.00, ID = 2212, D0 (true) = 1.60e+01 +- 0.00e+00 mm\n",
      " track 18: PT = 0.94 +- 0.00, ID = 321, D0 (true) = -0.00e+00 +- 0.00e+00 mm\n",
      " track 19: PT = 0.73 +- 0.00, ID = -211, D0 (true) = 0.00e+00 +- 0.00e+00 mm\n",
      " track 20: PT = 0.58 +- 0.00, ID = 211, D0 (true) = 7.08e+02 +- 0.00e+00 mm\n",
      " track 21: PT = 0.54 +- 0.00, ID = 211, D0 (true) = -1.77e+01 +- 0.00e+00 mm\n",
      " track 22: PT = 0.49 +- 0.00, ID = -211, D0 (true) = 1.14e+03 +- 0.00e+00 mm\n",
      " track 23: PT = 0.46 +- 0.00, ID = 211, D0 (true) = -0.00e+00 +- 0.00e+00 mm\n",
      " track 24: PT = 0.45 +- 0.00, ID = 321, D0 (true) = 5.30e+02 +- 0.00e+00 mm\n",
      " track 25: PT = 0.43 +- 0.00, ID = 211, D0 (true) = -1.25e+03 +- 0.00e+00 mm\n",
      " track 26: PT = 0.39 +- 0.00, ID = -211, D0 (true) = -2.60e+02 +- 0.00e+00 mm\n",
      " track 27: PT = 0.36 +- 0.00, ID = 211, D0 (true) = -1.16e+03 +- 0.00e+00 mm\n",
      " track 28: PT = 0.23 +- 0.00, ID = -211, D0 (true) = 1.03e+03 +- 0.00e+00 mm\n",
      " track 29: PT = 0.16 +- 0.00, ID = -211, D0 (true) = 1.14e+03 +- 0.00e+00 mm\n"
     ]
    }
   ],
   "source": [
    "for it,track in enumerate(tracks0_s):\n",
    "    print(' track %i: PT = %1.2f +- %1.2f, ID = %i, D0 (true) = %1.2e +- %1.2e mm' %(it+1,track.PT,track.ErrorPT,track.PID, track.D0, track.ErrorD0))"
   ]
  },
  {
   "cell_type": "code",
   "execution_count": 6,
   "metadata": {},
   "outputs": [
    {
     "name": "stdout",
     "output_type": "stream",
     "text": [
      " track 1: PT = 43.70 +- 0.14, ID = 11, D0 (true) = 1.84e-03 +- 2.62e-03 mm\n",
      " track 2: PT = 39.32 +- 0.11, ID = -11, D0 (true) = -3.55e-04 +- 2.68e-03 mm\n",
      " track 3: PT = 6.58 +- 0.02, ID = -211, D0 (true) = -4.70e+01 +- 3.91e-03 mm\n",
      " track 4: PT = 5.87 +- 0.01, ID = -211, D0 (true) = 2.09e+01 +- 3.21e-02 mm\n",
      " track 5: PT = 4.29 +- 0.01, ID = 13, D0 (true) = 4.64e-03 +- 6.76e-03 mm\n",
      " track 6: PT = 1.61 +- 0.00, ID = 321, D0 (true) = -1.18e-02 +- 1.48e-02 mm\n",
      " track 7: PT = 1.13 +- 0.00, ID = -211, D0 (true) = -4.05e+01 +- 6.28e-02 mm\n",
      " track 8: PT = 0.97 +- 0.01, ID = 2212, D0 (true) = -1.54e+01 +- 2.65e-01 mm\n",
      " track 9: PT = 0.94 +- 0.01, ID = 321, D0 (true) = 5.90e-02 +- 4.94e-02 mm\n",
      " track 10: PT = 0.73 +- 0.00, ID = -211, D0 (true) = -8.65e-03 +- 2.64e-02 mm\n",
      " track 11: PT = 0.46 +- 0.01, ID = 211, D0 (true) = 2.38e-02 +- 5.96e-02 mm\n"
     ]
    }
   ],
   "source": [
    "for it,track in enumerate(tracks_s):\n",
    "    print(' track %i: PT = %1.2f +- %1.2f, ID = %i, D0 (true) = %1.2e +- %1.2e mm' %(it+1,track.PT,track.ErrorPT,track.PID, track.D0, track.ErrorD0))"
   ]
  },
  {
   "cell_type": "code",
   "execution_count": 7,
   "metadata": {},
   "outputs": [],
   "source": [
    "f.Close()"
   ]
  },
  {
   "cell_type": "code",
   "execution_count": null,
   "metadata": {},
   "outputs": [],
   "source": []
  }
 ],
 "metadata": {
  "kernelspec": {
   "display_name": "Python 3",
   "language": "python",
   "name": "python3"
  },
  "language_info": {
   "codemirror_mode": {
    "name": "ipython",
    "version": 3
   },
   "file_extension": ".py",
   "mimetype": "text/x-python",
   "name": "python",
   "nbconvert_exporter": "python",
   "pygments_lexer": "ipython3",
   "version": "3.12.3"
  }
 },
 "nbformat": 4,
 "nbformat_minor": 2
}
