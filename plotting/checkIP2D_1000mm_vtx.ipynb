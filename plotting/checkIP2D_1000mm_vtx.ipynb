{
 "cells": [
  {
   "cell_type": "markdown",
   "metadata": {},
   "source": [
    "# Plot"
   ]
  },
  {
   "cell_type": "code",
   "execution_count": 1,
   "metadata": {},
   "outputs": [],
   "source": [
    "import warnings\n",
    "warnings.filterwarnings(\"ignore\", message=\"numpy.dtype size changed\")\n",
    "import numpy as np\n",
    "import os\n",
    "import matplotlib.pyplot as plt\n",
    "import seaborn as sns\n",
    "from matplotlib.colors import LogNorm\n",
    "import itertools\n",
    "\n",
    "delphesDir = os.path.abspath(\"../delphes-3.5.1pre10\")\n",
    "os.environ['ROOT_INCLUDE_PATH'] = os.path.join(delphesDir,\"external\")\n",
    "\n",
    "import ROOT\n",
    "\n",
    "ROOT.gSystem.Load(os.path.join(delphesDir,\"libDelphes.so\"))\n",
    "\n",
    "ROOT.gInterpreter.Declare('#include \"classes/SortableObject.h\"')\n",
    "ROOT.gInterpreter.Declare('#include \"classes/DelphesClasses.h\"')\n",
    "ROOT.gInterpreter.Declare('#include \"external/ExRootAnalysis/ExRootTreeReader.h\"')\n",
    "\n",
    "import sys\n",
    "sys.path.append('../recastCode')\n",
    "from helper import getFourMom,getJetTracks\n",
    "\n",
    "plt.style.use('fivethirtyeight') #Set style\n",
    "plt.rcParams.update({'figure.figsize' : (15,10)})  #Set general plotting options\n",
    "plt.rcParams.update({\n",
    "    \"text.usetex\": True,\n",
    "    \"font.family\": \"sans-serif\",\n",
    "    \"font.sans-serif\": [\"Helvetica\"]})\n",
    "\n",
    "plt.rcParams.update({\"savefig.dpi\" : 300}) #Figure resolution\n",
    "\n",
    "\n",
    "#Define plotting style:\n",
    "sns.set_style('ticks',{'font.family':'Times New Roman', 'font.serif':'Times New Roman'})\n",
    "sns.set_context('paper', font_scale=1.8)\n",
    "cm = plt.colormaps['RdYlBu']\n",
    "\n",
    "colors = sns.color_palette('Paired')"
   ]
  },
  {
   "cell_type": "markdown",
   "metadata": {},
   "source": [
    "### Load Recast Data"
   ]
  },
  {
   "cell_type": "code",
   "execution_count": 2,
   "metadata": {},
   "outputs": [],
   "source": [
    "# inputFile = '../pp2ZH/Events/run_02/ctau_1000mm_delphes_events.root'\n",
    "# ctau = float(inputFile.split('ctau_')[1].split('mm')[0])\n",
    "inputFile = '../HZcms_1000mm_vtx2.root'\n",
    "ctau = 1000.0\n"
   ]
  },
  {
   "cell_type": "code",
   "execution_count": 3,
   "metadata": {},
   "outputs": [
    {
     "name": "stderr",
     "output_type": "stream",
     "text": [
      "/usr/lib/python3/dist-packages/numpy/core/fromnumeric.py:3504: RuntimeWarning: Mean of empty slice.\n",
      "  return _methods._mean(a, axis=axis, dtype=dtype,\n",
      "/usr/lib/python3/dist-packages/numpy/core/_methods.py:129: RuntimeWarning: invalid value encountered in scalar divide\n",
      "  ret = ret.dtype.type(ret / rcount)\n"
     ]
    }
   ],
   "source": [
    "vars = ['IP2D', 'theta2D', 'alpha','pT','d0','sigmaD0','weights']\n",
    "resDict = {v : [] for v in vars}\n",
    "\n",
    "\n",
    "f = ROOT.TFile(inputFile,'read')\n",
    "tree = f.Get(\"Delphes\")\n",
    "nevts = tree.GetEntries()\n",
    "for ievt in range(nevts):\n",
    "    tree.GetEntry(ievt)   \n",
    "    # weightPB = tree.Event.At(0).Weight/nevts\n",
    "    weightPB = 1.0\n",
    "    jets = tree.Jet\n",
    "    # jets = tree.GenJet\n",
    "    tracks = tree.Track  \n",
    "    \n",
    "          \n",
    "    #Apply lepton cut requirement:\n",
    "    electrons = tree.Electron\n",
    "    muons = tree.Muon\n",
    "    passLepton = False\n",
    "    if len(electrons) >= 2:\n",
    "        ePlus = [e for e in electrons if e.Charge > 0]\n",
    "        eMinus = [e for e in electrons if e.Charge < 0]\n",
    "        for eP,eM in itertools.product(ePlus,eMinus):\n",
    "            p1 = getFourMom(eP,mass=0.511e-3)\n",
    "            p2 = getFourMom(eM,mass=0.511e-3)\n",
    "            p12 = p1+p2       \n",
    "            mll = np.sqrt(p12[0]**2 - np.dot(p12[1:],p12[1:]))\n",
    "            pTll = np.linalg.norm(p12[1:3])\n",
    "            if pTll > 100.0 and (70.0 < mll < 110.):\n",
    "                passLepton = True\n",
    "                break\n",
    "    if not passLepton and len(muons) >= 2:\n",
    "        muPlus = [mu for mu in muons if mu.Charge > 0]\n",
    "        muMinus = [mu for mu in muons if mu.Charge < 0]\n",
    "        for muP,muM in itertools.product(muPlus,muMinus):\n",
    "            p1 = getFourMom(muP,mass=106e-3)\n",
    "            p2 = getFourMom(muM,mass=106e-3)\n",
    "            p12 = p1+p2       \n",
    "            mll = np.sqrt(p12[0]**2 - np.dot(p12[1:],p12[1:]))\n",
    "            pTll = np.linalg.norm(p12[1:3])\n",
    "            if pTll > 100.0 and (70.0 < mll < 110.):\n",
    "                passLepton = True\n",
    "                break\n",
    "    \n",
    "    if not passLepton:\n",
    "        continue\n",
    "\n",
    "    for j in jets:\n",
    "        if j.PT < 35.0:\n",
    "            continue\n",
    "        if abs(j.Eta) > 2.4:\n",
    "            continue\n",
    "        jet_tracks = getJetTracks(j,tracks,Rmax=None)\n",
    "        ipList = []\n",
    "        for track in jet_tracks:\n",
    "            d0Err = track.ErrorD0\n",
    "            d0 = track.D0\n",
    "            resDict['d0'].append(d0)\n",
    "            resDict['sigmaD0'].append(d0Err)\n",
    "            ipT = np.log10(abs(d0)/d0Err)\n",
    "            ipList.append(ipT)\n",
    "        ip2D = np.median(ipList)\n",
    "        resDict['pT'].append(j.PT)\n",
    "        resDict['IP2D'].append(ip2D)    "
   ]
  },
  {
   "cell_type": "markdown",
   "metadata": {},
   "source": [
    "### Plot Distributions"
   ]
  },
  {
   "cell_type": "code",
   "execution_count": 4,
   "metadata": {},
   "outputs": [],
   "source": [
    "cmsIP2D = np.genfromtxt('../CMS_data/HEPData-ins1954276-v1-Figure_002-a.csv',skip_footer=0,skip_header=148,delimiter=',')\n",
    "bins = cmsIP2D[:-1,0]-np.diff(cmsIP2D[:,0])/2"
   ]
  },
  {
   "cell_type": "code",
   "execution_count": 5,
   "metadata": {},
   "outputs": [],
   "source": [
    "title = r'$c\\tau_s = %1.0f$ mm' %(ctau)\n",
    "colors = sns.color_palette('Paired')"
   ]
  },
  {
   "cell_type": "code",
   "execution_count": 6,
   "metadata": {},
   "outputs": [
    {
     "data": {
      "image/png": "[encoded data removed]",
      "text/plain": [
       "<Figure size 700x500 with 1 Axes>"
      ]
     },
     "metadata": {},
     "output_type": "display_data"
    }
   ],
   "source": [
    "fig = plt.figure(figsize=(7,5))\n",
    "\n",
    "IP2D = resDict['IP2D']\n",
    "label = 'DelphesTrackCovariance'\n",
    "\n",
    "h1,_,_ = plt.hist(IP2D,histtype='step',linewidth=2,bins=bins,density=False,\n",
    "                    weights=[1.0/len(IP2D)]*len(IP2D),label=label,color=colors[0])\n",
    "plt.scatter(cmsIP2D[:,0],cmsIP2D[:,1],label='CMS',color='black')\n",
    "# np.savetxt('./ip2d_1mm.csv',list(zip(bins,h1)),header='bin,bin_content',delimiter=',',fmt='%1.4e')\n",
    "plt.legend(fontsize=12)\n",
    "plt.yscale('log')\n",
    "# plt.ylim(1e-2,10)\n",
    "# plt.xlim(-1.5,3.0)\n",
    "plt.grid()\n",
    "plt.xlabel(r'$IP_{sig}^{2D}$',fontsize=18)\n",
    "plt.ylabel('Probability')\n",
    "plt.title(title)\n",
    "\n",
    "# plt.tight_layout()\n",
    "plt.savefig('IP2D_1000mm_vtx.png')\n",
    "plt.show()"
   ]
  },
  {
   "cell_type": "code",
   "execution_count": null,
   "metadata": {},
   "outputs": [],
   "source": []
  }
 ],
 "metadata": {
  "kernelspec": {
   "display_name": "Python 3 (ipykernel)",
   "language": "python",
   "name": "python3"
  },
  "language_info": {
   "codemirror_mode": {
    "name": "ipython",
    "version": 3
   },
   "file_extension": ".py",
   "mimetype": "text/x-python",
   "name": "python",
   "nbconvert_exporter": "python",
   "pygments_lexer": "ipython3",
   "version": "3.12.3"
  }
 },
 "nbformat": 4,
 "nbformat_minor": 4
}
