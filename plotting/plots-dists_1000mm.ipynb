{
 "cells": [
  {
   "cell_type": "markdown",
   "metadata": {},
   "source": [
    "# Plot"
   ]
  },
  {
   "cell_type": "code",
   "execution_count": null,
   "metadata": {},
   "outputs": [],
   "source": [
    "import warnings\n",
    "warnings.filterwarnings(\"ignore\", message=\"numpy.dtype size changed\")\n",
    "import numpy as np\n",
    "import os\n",
    "import matplotlib.pyplot as plt\n",
    "import seaborn as sns\n",
    "from matplotlib.colors import LogNorm\n",
    "import itertools\n",
    "\n",
    "delphesDir = os.path.abspath(\"../MG5/Delphes\")\n",
    "os.environ['ROOT_INCLUDE_PATH'] = os.path.join(delphesDir,\"external\")\n",
    "\n",
    "import ROOT\n",
    "\n",
    "ROOT.gSystem.Load(os.path.join(delphesDir,\"libDelphes.so\"))\n",
    "\n",
    "ROOT.gInterpreter.Declare('#include \"classes/SortableObject.h\"')\n",
    "ROOT.gInterpreter.Declare('#include \"classes/DelphesClasses.h\"')\n",
    "ROOT.gInterpreter.Declare('#include \"external/ExRootAnalysis/ExRootTreeReader.h\"')\n",
    "\n",
    "import sys\n",
    "sys.path.append('../recastCode')\n",
    "from helper import eventReader\n",
    "\n",
    "plt.style.use('fivethirtyeight') #Set style\n",
    "plt.rcParams.update({'figure.figsize' : (15,10)})  #Set general plotting options\n",
    "plt.rcParams.update({\n",
    "    \"text.usetex\": True,\n",
    "    \"font.family\": \"sans-serif\",\n",
    "    \"font.sans-serif\": [\"Helvetica\"]})\n",
    "\n",
    "plt.rcParams.update({\"savefig.dpi\" : 300}) #Figure resolution\n",
    "\n",
    "\n",
    "#Define plotting style:\n",
    "sns.set_style('ticks',{'font.family':'Times New Roman', 'font.serif':'Times New Roman'})\n",
    "sns.set_context('paper', font_scale=1.8)\n",
    "cm = plt.colormaps['RdYlBu']\n",
    "\n",
    "colors = sns.color_palette('Paired')"
   ]
  },
  {
   "cell_type": "markdown",
   "metadata": {},
   "source": [
    "### Load Recast Data"
   ]
  },
  {
   "cell_type": "code",
   "execution_count": null,
   "metadata": {},
   "outputs": [],
   "source": [
    "# inputFile = '../pp2ZH/Events/run_02/ctau_1000mm_delphes_events.root'\n",
    "# ctau = float(inputFile.split('ctau_')[1].split('mm')[0])\n",
    "inputFile = '../HZcms_1000mm.root'\n",
    "ctau = 1000.0\n"
   ]
  },
  {
   "cell_type": "code",
   "execution_count": null,
   "metadata": {},
   "outputs": [],
   "source": [
    "methods = ['smearD0','smearVtx']\n",
    "Rvals = [None,102.0]\n",
    "nevts = -1\n",
    "allResults = []\n",
    "for method,R in itertools.product(methods,Rvals):\n",
    "    print('Getting results for method = %s and Rmax = %s' %(method,R))\n",
    "    f = ROOT.TFile(inputFile,'read')\n",
    "    allResults.append(eventReader(f,nevts,method,R))\n",
    "    # f.Close()\n",
    "\n",
    "            "
   ]
  },
  {
   "cell_type": "markdown",
   "metadata": {},
   "source": [
    "### Plot Distributions"
   ]
  },
  {
   "cell_type": "code",
   "execution_count": null,
   "metadata": {},
   "outputs": [],
   "source": [
    "cmsIP2D = np.genfromtxt('../CMS_data/HEPData-ins1954276-v1-Figure_002-a.csv',skip_footer=0,skip_header=148,delimiter=',')\n",
    "bins = cmsIP2D[:-1,0]-np.diff(cmsIP2D[:,0])/2"
   ]
  },
  {
   "cell_type": "code",
   "execution_count": null,
   "metadata": {},
   "outputs": [],
   "source": [
    "title = r'$c\\tau_s = %1.0f$ mm' %(ctau)\n",
    "colors = sns.color_palette('Paired')"
   ]
  },
  {
   "cell_type": "code",
   "execution_count": null,
   "metadata": {},
   "outputs": [],
   "source": [
    "fig = plt.figure(figsize=(7,5))\n",
    "for i,resDict in enumerate(allResults):\n",
    "    IP2D = resDict['IP2D']\n",
    "    label = '%s' %(resDict['method'])\n",
    "    if resDict['Rmax'] is not None:\n",
    "        label += r' ($R < %1.0f$ mm)' %resDict['Rmax']\n",
    "    h1,_,_ = plt.hist(IP2D,histtype='step',linewidth=2,bins=bins,density=False,weights=[1.0/len(IP2D)]*len(IP2D),label=label,color=colors[i])\n",
    "plt.scatter(cmsIP2D[:,0],cmsIP2D[:,1],label='CMS',color='black')\n",
    "# np.savetxt('./ip2d_1mm.csv',list(zip(bins,h1)),header='bin,bin_content',delimiter=',',fmt='%1.4e')\n",
    "plt.legend(fontsize=12)\n",
    "plt.yscale('log')\n",
    "# plt.ylim(1e-2,10)\n",
    "# plt.xlim(-1.5,3.0)\n",
    "plt.grid()\n",
    "plt.xlabel(r'$IP_{sig}^{2D}$',fontsize=18)\n",
    "plt.ylabel('Probability')\n",
    "plt.title(title)\n",
    "\n",
    "plt.tight_layout()\n",
    "plt.savefig('IP2D_1000mm.png')\n",
    "plt.show()"
   ]
  },
  {
   "cell_type": "code",
   "execution_count": null,
   "metadata": {},
   "outputs": [],
   "source": [
    "cmsTheta2D = np.genfromtxt('../CMS_data/HEPData-ins1954276-v1-Figure_002-b.csv',skip_footer=0,skip_header=120,delimiter=',')\n",
    "bins = cmsTheta2D[:-1,0]-np.diff(cmsTheta2D[:,0])/2"
   ]
  },
  {
   "cell_type": "code",
   "execution_count": null,
   "metadata": {},
   "outputs": [],
   "source": [
    "fig = plt.figure(figsize=(7,5))\n",
    "for i,resDict in enumerate(allResults):\n",
    "    theta2D = resDict['theta2D']\n",
    "    label = '%s' %(resDict['method'])\n",
    "    if resDict['Rmax'] is not None:\n",
    "        label += r' ($R < %1.0f$ mm)' %resDict['Rmax']\n",
    "    h1,_,_ = plt.hist(theta2D,histtype='step',linewidth=2,bins=bins,density=False,weights=[1.0/len(theta2D)]*len(theta2D),label=label,color=colors[i])\n",
    "# np.savetxt('./theta2d_1mm.csv',list(zip(bins,h1)),header='bin,bin_content',delimiter=',',fmt='%1.4e')\n",
    "\n",
    "plt.scatter(cmsTheta2D[:,0],cmsTheta2D[:,1],label='CMS',color='black')\n",
    "plt.yscale('log')\n",
    "plt.legend(fontsize=12)\n",
    "plt.grid()\n",
    "\n",
    "plt.xlabel(r'$\\Theta^{2D}$',fontsize=18)\n",
    "plt.ylabel('Probability')\n",
    "plt.title(title)\n",
    "plt.tight_layout()\n",
    "plt.savefig('Theta2D_1000mm.png')\n",
    "plt.show()"
   ]
  },
  {
   "cell_type": "code",
   "execution_count": null,
   "metadata": {},
   "outputs": [],
   "source": [
    "cmsAlpha = np.genfromtxt('../CMS_data/HEPData-ins1954276-v1-Figure_002-c.csv',skip_header=219,delimiter=',')\n",
    "bins = cmsAlpha[:-1,0]-np.diff(cmsAlpha[:,0])/2\n",
    "bins[0] = 0.0\n",
    "bins = np.append(bins,cmsAlpha[-1,0]-np.diff(cmsAlpha[-2:,0])/2)\n",
    "bins = np.append(bins,cmsAlpha[-1,0]+np.diff(cmsAlpha[-2:,0])/2)"
   ]
  },
  {
   "cell_type": "code",
   "execution_count": null,
   "metadata": {},
   "outputs": [],
   "source": [
    "fig = plt.figure(figsize=(7,5))\n",
    "for i,resDict in enumerate(allResults):\n",
    "    alpha = resDict['alpha']\n",
    "    label = '%s' %(resDict['method'])\n",
    "    if resDict['Rmax'] is not None:\n",
    "        label += r' ($R < %1.0f$ mm)' %resDict['Rmax']\n",
    "    h1,_,_ = plt.hist(alpha,histtype='step',linewidth=2,bins=bins,density=False,weights=[1.0/len(alpha)]*len(alpha),label=label,color=colors[i])\n",
    "# np.savetxt('./alpha_1mm.csv',list(zip(bins,h1)),header='bin,bin_content',delimiter=',',fmt='%1.4e')\n",
    "\n",
    "plt.scatter(cmsAlpha[:,0],cmsAlpha[:,1],label='CMS',color='black')\n",
    "plt.legend(fontsize=12)\n",
    "plt.yscale('log')\n",
    "# plt.ylim(1e-3,1e0)\n",
    "plt.xlim(0.,1.)\n",
    "plt.grid()\n",
    "\n",
    "plt.xlabel(r'$\\alpha_{max}$',fontsize=18)\n",
    "plt.ylabel('Probability')\n",
    "plt.title(title)\n",
    "\n",
    "plt.tight_layout()\n",
    "plt.savefig('alpha_1000mm.png')\n",
    "plt.show()"
   ]
  },
  {
   "cell_type": "markdown",
   "metadata": {},
   "source": [
    "### Additional distributions"
   ]
  },
  {
   "cell_type": "code",
   "execution_count": null,
   "metadata": {},
   "outputs": [],
   "source": [
    "fig = plt.figure(figsize=(7,5))\n",
    "bins = np.logspace(-2,2,50)\n",
    "for i,resDict in enumerate(allResults):\n",
    "    d0 = resDict['d0']\n",
    "    label = '%s' %(resDict['method'])\n",
    "    if resDict['Rmax'] is not None:\n",
    "        label += r' ($R < %1.0f$ mm)' %resDict['Rmax']\n",
    "    h1,_,_ = plt.hist(d0,histtype='step',linewidth=2,bins=bins,density=False,weights=[1.0/len(d0)]*len(d0),label=label,color=colors[i])\n",
    "\n",
    "plt.legend(fontsize=12)\n",
    "plt.yscale('log')\n",
    "plt.xscale('log')\n",
    "# plt.ylim(1e-2,10)\n",
    "# plt.xlim(-1.5,3.0)\n",
    "plt.grid()\n",
    "\n",
    "plt.xlabel(r'$d_{0}$ (mm)',fontsize=18)\n",
    "plt.ylabel('Probability')\n",
    "plt.title(title)\n",
    "\n",
    "plt.tight_layout()\n",
    "plt.savefig('d0_1000mm.png')\n",
    "plt.show()"
   ]
  },
  {
   "cell_type": "code",
   "execution_count": null,
   "metadata": {},
   "outputs": [],
   "source": [
    "fig = plt.figure(figsize=(7,5))\n",
    "bins = np.logspace(-2,2,50)\n",
    "for i,resDict in enumerate(allResults):\n",
    "    sigmaD0 = resDict['sigmaD0']\n",
    "    label = '%s' %(resDict['method'])\n",
    "    if resDict['Rmax'] is not None:\n",
    "        label += r' ($R < %1.0f$ mm)' %resDict['Rmax']\n",
    "    h1,_,_ = plt.hist(sigmaD0,histtype='step',linewidth=2,bins=bins,density=False,weights=[1.0/len(sigmaD0)]*len(sigmaD0),label=label,color=colors[i])\n",
    "\n",
    "plt.legend(fontsize=12)\n",
    "plt.yscale('log')\n",
    "plt.xscale('log')\n",
    "# plt.ylim(1e-2,10)\n",
    "# plt.xlim(-1.5,3.0)\n",
    "plt.grid()\n",
    "\n",
    "plt.xlabel(r'$\\sigma(d_{0})$ (mm)',fontsize=18)\n",
    "plt.ylabel('Probability')\n",
    "plt.title(title)\n",
    "\n",
    "plt.tight_layout()\n",
    "plt.savefig('sigmaD0_1000mm.png')\n",
    "plt.show()"
   ]
  },
  {
   "cell_type": "code",
   "execution_count": null,
   "metadata": {},
   "outputs": [],
   "source": [
    "for resDict in allResults:\n",
    "    sigmaD0 = resDict['sigmaD0']\n",
    "    d0 = resDict['d0']\n",
    "    label = '%s' %(resDict['method'])\n",
    "    if resDict['Rmax'] is not None:\n",
    "        label += r' ($R < %1.0f$ mm)' %resDict['Rmax']\n",
    "    \n",
    "    fig = plt.figure(figsize=(7,5))\n",
    "    plt.hist2d(d0,sigmaD0,bins=50,norm=LogNorm(),cmap=cm)\n",
    "    plt.grid()\n",
    "    plt.ylabel(r'$\\sigma(d_{0})$',fontsize=18)\n",
    "    plt.xlabel(r'$d_0$')\n",
    "    plt.title(title + ' - ' + label)\n",
    "    plt.colorbar(label='N(Tracks)')\n",
    "    plt.tight_layout()\n",
    "    plt.show()"
   ]
  },
  {
   "cell_type": "code",
   "execution_count": null,
   "metadata": {},
   "outputs": [],
   "source": []
  }
 ],
 "metadata": {
  "kernelspec": {
   "display_name": "Python 3 (ipykernel)",
   "language": "python",
   "name": "python3"
  },
  "language_info": {
   "codemirror_mode": {
    "name": "ipython",
    "version": 3
   },
   "file_extension": ".py",
   "mimetype": "text/x-python",
   "name": "python",
   "nbconvert_exporter": "python",
   "pygments_lexer": "ipython3",
   "version": "3.12.3"
  }
 },
 "nbformat": 4,
 "nbformat_minor": 4
}
