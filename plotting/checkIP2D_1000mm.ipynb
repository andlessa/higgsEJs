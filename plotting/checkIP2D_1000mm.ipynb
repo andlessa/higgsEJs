{
 "cells": [
  {
   "cell_type": "markdown",
   "metadata": {},
   "source": [
    "# Plot"
   ]
  },
  {
   "cell_type": "code",
   "execution_count": 1,
   "metadata": {},
   "outputs": [
    {
     "name": "stdout",
     "output_type": "stream",
     "text": [
      "Welcome to JupyROOT 6.30/06\n"
     ]
    }
   ],
   "source": [
    "import warnings\n",
    "warnings.filterwarnings(\"ignore\", message=\"numpy.dtype size changed\")\n",
    "import numpy as np\n",
    "import os\n",
    "import matplotlib.pyplot as plt\n",
    "import seaborn as sns\n",
    "from matplotlib.colors import LogNorm\n",
    "import itertools\n",
    "\n",
    "delphesDir = os.path.abspath(\"../MG5/Delphes\")\n",
    "os.environ['ROOT_INCLUDE_PATH'] = os.path.join(delphesDir,\"external\")\n",
    "\n",
    "import ROOT\n",
    "\n",
    "ROOT.gSystem.Load(os.path.join(delphesDir,\"libDelphes.so\"))\n",
    "\n",
    "ROOT.gInterpreter.Declare('#include \"classes/SortableObject.h\"')\n",
    "ROOT.gInterpreter.Declare('#include \"classes/DelphesClasses.h\"')\n",
    "ROOT.gInterpreter.Declare('#include \"external/ExRootAnalysis/ExRootTreeReader.h\"')\n",
    "\n",
    "import sys\n",
    "sys.path.append('../recastCode')\n",
    "from helper import eventReader\n",
    "\n",
    "plt.style.use('fivethirtyeight') #Set style\n",
    "plt.rcParams.update({'figure.figsize' : (15,10)})  #Set general plotting options\n",
    "plt.rcParams.update({\n",
    "    \"text.usetex\": True,\n",
    "    \"font.family\": \"sans-serif\",\n",
    "    \"font.sans-serif\": [\"Helvetica\"]})\n",
    "\n",
    "plt.rcParams.update({\"savefig.dpi\" : 300}) #Figure resolution\n",
    "\n",
    "\n",
    "#Define plotting style:\n",
    "sns.set_style('ticks',{'font.family':'Times New Roman', 'font.serif':'Times New Roman'})\n",
    "sns.set_context('paper', font_scale=1.8)\n",
    "cm = plt.colormaps['RdYlBu']\n",
    "\n",
    "colors = sns.color_palette('Paired')"
   ]
  },
  {
   "cell_type": "markdown",
   "metadata": {},
   "source": [
    "### Load Recast Data"
   ]
  },
  {
   "cell_type": "code",
   "execution_count": 2,
   "metadata": {},
   "outputs": [],
   "source": [
    "# inputFile = '../pp2ZH/Events/run_02/ctau_1000mm_delphes_events.root'\n",
    "# ctau = float(inputFile.split('ctau_')[1].split('mm')[0])\n",
    "inputFile = '../HZcms_1000mm.root'\n",
    "ctau = 1000.0\n"
   ]
  },
  {
   "cell_type": "code",
   "execution_count": 3,
   "metadata": {},
   "outputs": [
    {
     "name": "stdout",
     "output_type": "stream",
     "text": [
      "Getting results for method = smearVtx and Rmax = None\n"
     ]
    },
    {
     "name": "stderr",
     "output_type": "stream",
     "text": [
      "/home/lessa/exoHiggsEJ/plotting/../recastCode/helper.py:168: RuntimeWarning: divide by zero encountered in log10\n",
      "  ltheta = np.log10(theta)\n"
     ]
    }
   ],
   "source": [
    "methods = ['smearVtx']\n",
    "Rvals = [None]\n",
    "nevts = -1\n",
    "allResults = []\n",
    "for method,R in itertools.product(methods,Rvals):\n",
    "    print('Getting results for method = %s and Rmax = %s' %(method,R))\n",
    "    f = ROOT.TFile(inputFile,'read')\n",
    "    allResults.append(eventReader(f,nevts,method,R))\n",
    "    f.Close()\n",
    "\n",
    "            "
   ]
  },
  {
   "cell_type": "markdown",
   "metadata": {},
   "source": [
    "### Plot Distributions"
   ]
  },
  {
   "cell_type": "code",
   "execution_count": 4,
   "metadata": {},
   "outputs": [],
   "source": [
    "cmsIP2D = np.genfromtxt('../CMS_data/HEPData-ins1954276-v1-Figure_002-a.csv',skip_footer=0,skip_header=148,delimiter=',')\n",
    "bins = cmsIP2D[:-1,0]-np.diff(cmsIP2D[:,0])/2"
   ]
  },
  {
   "cell_type": "code",
   "execution_count": 5,
   "metadata": {},
   "outputs": [],
   "source": [
    "title = r'$c\\tau_s = %1.0f$ mm' %(ctau)\n",
    "colors = sns.color_palette('Paired')"
   ]
  },
  {
   "cell_type": "code",
   "execution_count": 6,
   "metadata": {},
   "outputs": [
    {
     "data": {
      "image/png": "[encoded data removed]",
      "text/plain": [
       "<Figure size 700x500 with 1 Axes>"
      ]
     },
     "metadata": {},
     "output_type": "display_data"
    }
   ],
   "source": [
    "fig = plt.figure(figsize=(7,5))\n",
    "for i,resDict in enumerate(allResults):\n",
    "    IP2D = resDict['IP2D']\n",
    "    label = '%s' %(resDict['method'])\n",
    "    if resDict['Rmax'] is not None:\n",
    "        label += r' ($R < %1.0f$ mm)' %resDict['Rmax']\n",
    "    h1,_,_ = plt.hist(IP2D,histtype='step',linewidth=2,bins=bins,density=False,weights=[1.0/len(IP2D)]*len(IP2D),label=label,color=colors[i])\n",
    "plt.scatter(cmsIP2D[:,0],cmsIP2D[:,1],label='CMS',color='black')\n",
    "# np.savetxt('./ip2d_1mm.csv',list(zip(bins,h1)),header='bin,bin_content',delimiter=',',fmt='%1.4e')\n",
    "plt.legend(fontsize=12)\n",
    "plt.yscale('log')\n",
    "# plt.ylim(1e-2,10)\n",
    "# plt.xlim(-1.5,3.0)\n",
    "plt.grid()\n",
    "plt.xlabel(r'$IP_{sig}^{2D}$',fontsize=18)\n",
    "plt.ylabel('Probability')\n",
    "plt.title(title)\n",
    "\n",
    "plt.tight_layout()\n",
    "plt.savefig('IP2D_1000mm.png')\n",
    "plt.show()"
   ]
  },
  {
   "cell_type": "markdown",
   "metadata": {},
   "source": [
    "## Check Event"
   ]
  },
  {
   "cell_type": "code",
   "execution_count": 54,
   "metadata": {},
   "outputs": [
    {
     "name": "stdout",
     "output_type": "stream",
     "text": [
      "----- Event 61 ------\n",
      "3 jets\n",
      "\n",
      "jet 1: PT = 70.139, jet Eta = 0.070\n",
      "2 tracks matched\n",
      " track 1: PT = 1.516, ID = 211, D0 (true) = 0.00e+00 mm\n",
      "      after smearing: D0 = 9.17e-03, sigmaD0 = 3.39e-02\n",
      " track 2: PT = 67.830, ID = 11, D0 (true) = 0.00e+00 mm\n",
      "      after smearing: D0 = 4.46e-02, sigmaD0 = 3.39e-02\n",
      "IP2D = -0.782\n",
      "\n",
      "jet 2: PT = 32.484, jet Eta = 0.825\n",
      "\n",
      "jet 3: PT = 31.681, jet Eta = 0.486\n"
     ]
    }
   ],
   "source": [
    "ievt = 61\n",
    "np.random.seed(0)\n",
    "f = ROOT.TFile(inputFile,'read')\n",
    "tree = f.Get(\"Delphes\")\n",
    "tree.GetEntry(ievt)   \n",
    "jets = tree.Jet\n",
    "tracks = tree.Track    \n",
    "from helper import getJetTracks,getD0,getSigmaD0,getAlpha,getIP2D \n",
    "d0 = []\n",
    "sigmaD0 = []\n",
    "good_jets = []\n",
    "print('----- Event %i ------' %ievt)\n",
    "print('%i jets' %len(jets))\n",
    "for ij,j in enumerate(jets):\n",
    "    print('\\njet %i: PT = %1.3f, jet Eta = %1.3f' %(ij+1,j.PT,j.Eta))\n",
    "    if j.PT < 35.0:\n",
    "        continue\n",
    "    if abs(j.Eta) > 2.4:\n",
    "        continue\n",
    "    good_jets.append(j)\n",
    "    jet_tracks = getJetTracks(j,tracks)\n",
    "    print('%i tracks matched' %len(jet_tracks))\n",
    "    if len(jet_tracks) == 0:\n",
    "        continue\n",
    "    for it,track in enumerate(jet_tracks):\n",
    "        print(' track %i: PT = %1.3f, ID = %i, D0 (true) = %1.2e mm' %(it+1,track.PT,track.PID, track.D0))\n",
    "        tD0 = getD0(track,smear=True,method=method)\n",
    "        tSD0 = getSigmaD0(track,method=method)\n",
    "        print('      after smearing: D0 = %1.2e, sigmaD0 = %1.2e' %(tD0,tSD0) )\n",
    "        d0.append(tD0)\n",
    "        sigmaD0.append(tSD0)\n",
    "    ip2D = getIP2D(jet_tracks,smear=True,method='smearVtx')\n",
    "    print('IP2D = %1.3f' %ip2D)\n",
    "\n",
    "f.Close()"
   ]
  },
  {
   "cell_type": "code",
   "execution_count": null,
   "metadata": {},
   "outputs": [],
   "source": []
  }
 ],
 "metadata": {
  "kernelspec": {
   "display_name": "Python 3 (ipykernel)",
   "language": "python",
   "name": "python3"
  },
  "language_info": {
   "codemirror_mode": {
    "name": "ipython",
    "version": 3
   },
   "file_extension": ".py",
   "mimetype": "text/x-python",
   "name": "python",
   "nbconvert_exporter": "python",
   "pygments_lexer": "ipython3",
   "version": "3.12.3"
  }
 },
 "nbformat": 4,
 "nbformat_minor": 4
}
